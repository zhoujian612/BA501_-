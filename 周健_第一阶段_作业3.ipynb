{
  "nbformat": 4,
  "nbformat_minor": 0,
  "metadata": {
    "colab": {
      "name": "周健-第一阶段-作业3.ipynb",
      "version": "0.3.2",
      "views": {},
      "default_view": {},
      "provenance": [],
      "collapsed_sections": []
    }
  },
  "cells": [
    {
      "metadata": {
        "id": "1O5pBX210U2n",
        "colab_type": "code",
        "colab": {
          "autoexec": {
            "startup": false,
            "wait_interval": 0
          }
        }
      },
      "cell_type": "code",
      "source": [
        "import numpy as np\n",
        "import pandas as pd\n",
        "import matplotlib.pyplot as plt"
      ],
      "execution_count": 0,
      "outputs": []
    },
    {
      "metadata": {
        "id": "Vx2DhAsBuPMl",
        "colab_type": "code",
        "colab": {
          "autoexec": {
            "startup": false,
            "wait_interval": 0
          }
        }
      },
      "cell_type": "code",
      "source": [
        "######  HW1，How do you handle duplicate values in a dataset in Python?"
      ],
      "execution_count": 0,
      "outputs": []
    },
    {
      "metadata": {
        "id": "fx_k-qns0iSl",
        "colab_type": "code",
        "colab": {
          "autoexec": {
            "startup": false,
            "wait_interval": 0
          },
          "base_uri": "https://localhost:8080/",
          "height": 51
        },
        "outputId": "983bb026-22ac-4d68-bb86-c7f50c3b8d9c",
        "executionInfo": {
          "status": "ok",
          "timestamp": 1526506179962,
          "user_tz": -120,
          "elapsed": 542,
          "user": {
            "displayName": "jian zhou",
            "photoUrl": "https://lh3.googleusercontent.com/a/default-user=s128",
            "userId": "114239408718799861814"
          }
        }
      },
      "cell_type": "code",
      "source": [
        "# if it is in a numpy array, there are two ways to remove redundancy\n",
        "\n",
        "# method 1, use the \"set\" function and \"list\" function\n",
        "a = np.array([1,2,2,3,4,5])\n",
        "print a\n",
        "\n",
        "\n",
        "a_dedupe = set(a)\n",
        "b = list(a_dedupe)\n",
        "print b"
      ],
      "execution_count": 10,
      "outputs": [
        {
          "output_type": "stream",
          "text": [
            "[1 2 2 3 4 5]\n",
            "[1, 2, 3, 4, 5]\n"
          ],
          "name": "stdout"
        }
      ]
    },
    {
      "metadata": {
        "id": "EmebhHfH4T6n",
        "colab_type": "code",
        "colab": {
          "autoexec": {
            "startup": false,
            "wait_interval": 0
          },
          "base_uri": "https://localhost:8080/",
          "height": 51
        },
        "outputId": "524df340-9a19-448e-9099-0cf04ce190f4",
        "executionInfo": {
          "status": "ok",
          "timestamp": 1526506690095,
          "user_tz": -120,
          "elapsed": 555,
          "user": {
            "displayName": "jian zhou",
            "photoUrl": "https://lh3.googleusercontent.com/a/default-user=s128",
            "userId": "114239408718799861814"
          }
        }
      },
      "cell_type": "code",
      "source": [
        "# method 2, use \"unique\" function\n",
        "a = np.array([1,2,2,3,4,5])\n",
        "print a\n",
        "\n",
        "a_dedupe = np.unique(a)\n",
        "print(a_dedupe)"
      ],
      "execution_count": 12,
      "outputs": [
        {
          "output_type": "stream",
          "text": [
            "[1 2 2 3 4 5]\n",
            "[1 2 3 4 5]\n"
          ],
          "name": "stdout"
        }
      ]
    },
    {
      "metadata": {
        "id": "OUWwOgbT2jTf",
        "colab_type": "code",
        "colab": {
          "autoexec": {
            "startup": false,
            "wait_interval": 0
          },
          "base_uri": "https://localhost:8080/",
          "height": 136
        },
        "outputId": "3023cd40-e882-46ff-af84-24686302d53d",
        "executionInfo": {
          "status": "ok",
          "timestamp": 1526511575337,
          "user_tz": -120,
          "elapsed": 535,
          "user": {
            "displayName": "jian zhou",
            "photoUrl": "https://lh3.googleusercontent.com/a/default-user=s128",
            "userId": "114239408718799861814"
          }
        }
      },
      "cell_type": "code",
      "source": [
        "# if it is  a dataframe, use \"drop_duplicates\"\n",
        "\n",
        "b = pd.DataFrame([[1,2,3,4],[1,2,3,4],[2,3,4,4]],columns=[\"c1\",\"c2\",\"c3\",\"c4\"],index=\n",
        "                [\"r1\",\"r2\",\"r3\"])\n",
        "b_dedupe = b.drop_duplicates(keep=\"first\")\n",
        "print(b)\n",
        "\n",
        "print(b_dedupe)"
      ],
      "execution_count": 29,
      "outputs": [
        {
          "output_type": "stream",
          "text": [
            "    c1  c2  c3  c4\n",
            "r1   1   2   3   4\n",
            "r2   1   2   3   4\n",
            "r3   2   3   4   4\n",
            "    c1  c2  c3  c4\n",
            "r1   1   2   3   4\n",
            "r3   2   3   4   4\n"
          ],
          "name": "stdout"
        }
      ]
    },
    {
      "metadata": {
        "id": "pu2KJMz_7FG_",
        "colab_type": "code",
        "colab": {
          "autoexec": {
            "startup": false,
            "wait_interval": 0
          }
        }
      },
      "cell_type": "code",
      "source": [
        "s########## HW2, You are given two tables - friend_request and request_accepted. \n",
        "# Friend_request contains requester_id, time and sent_to_id and request_accepted table contains time, acceptor_id and requestor_id. \n",
        "# How will you determine the overall acceptance rate of requests? "
      ],
      "execution_count": 0,
      "outputs": []
    },
    {
      "metadata": {
        "id": "zO7YbkF8CBQ6",
        "colab_type": "code",
        "colab": {
          "autoexec": {
            "startup": false,
            "wait_interval": 0
          },
          "base_uri": "https://localhost:8080/",
          "height": 136
        },
        "outputId": "e44f7127-3433-4858-97ad-7c22fc2fe79d",
        "executionInfo": {
          "status": "ok",
          "timestamp": 1526621678596,
          "user_tz": -120,
          "elapsed": 581,
          "user": {
            "displayName": "jian zhou",
            "photoUrl": "https://lh3.googleusercontent.com/a/default-user=s128",
            "userId": "114239408718799861814"
          }
        }
      },
      "cell_type": "code",
      "source": [
        "import pandas as pd\n",
        "friend_request = pd.DataFrame({\"requester_id\":[\"r11\",\"r12\",\"r13\"],\"time\":[\"t11\",\"t12\",\"t13\"],\n",
        "                               \"sent_to_id\":[\"s1\",\"s2\",\"s3\"]})\n",
        "request_accepted = pd.DataFrame({\"requester_id\":[\"r11\",\"r12\"],\"time\":[\"t11\",\"t12\"],\n",
        "                               \"acceptor_id\":[\"s1\",\"s2\"]})\n",
        "print(friend_request)\n",
        "print(request_accepted)"
      ],
      "execution_count": 2,
      "outputs": [
        {
          "output_type": "stream",
          "text": [
            "  requester_id sent_to_id time\n",
            "0          r11         s1  t11\n",
            "1          r12         s2  t12\n",
            "2          r13         s3  t13\n",
            "  acceptor_id requester_id time\n",
            "0          s1          r11  t11\n",
            "1          s2          r12  t12\n"
          ],
          "name": "stdout"
        }
      ]
    },
    {
      "metadata": {
        "id": "R43nDZ4XPIG_",
        "colab_type": "code",
        "colab": {
          "autoexec": {
            "startup": false,
            "wait_interval": 0
          }
        }
      },
      "cell_type": "code",
      "source": [
        "#sql\n",
        "# SELECT friend_request.requester_id, request_accepted.requester_id\n",
        "# FROM friend_request \n",
        "# LEFT JOIN request_accepted ON friend_request.requester_id = request_accepted.requester_id\n",
        "\n",
        "# SELECT friend_request.sent_to_id, request_accepted.acceptor_id\n",
        "# FROM friend_request \n",
        "# LEFT JOIN request_accepted ON friend_request.sent_to_id = request_accepted.acceptor_id"
      ],
      "execution_count": 0,
      "outputs": []
    },
    {
      "metadata": {
        "id": "qsdg0IePgkYm",
        "colab_type": "code",
        "colab": {
          "autoexec": {
            "startup": false,
            "wait_interval": 0
          },
          "base_uri": "https://localhost:8080/",
          "height": 34
        },
        "outputId": "5edbd32d-8120-4c9a-ccfb-b26a36296257",
        "executionInfo": {
          "status": "ok",
          "timestamp": 1526517112119,
          "user_tz": -120,
          "elapsed": 546,
          "user": {
            "displayName": "jian zhou",
            "photoUrl": "https://lh3.googleusercontent.com/a/default-user=s128",
            "userId": "114239408718799861814"
          }
        }
      },
      "cell_type": "code",
      "source": [
        "a = pd.merge(friend_request,request_accepted,how=\"left\")\n",
        "len(a[\"acceptor_id\"][a.acceptor_id > 0])/(len(a[\"acceptor_id\"])*1.0)"
      ],
      "execution_count": 47,
      "outputs": [
        {
          "output_type": "execute_result",
          "data": {
            "text/plain": [
              "0.6666666666666666"
            ]
          },
          "metadata": {
            "tags": []
          },
          "execution_count": 47
        }
      ]
    },
    {
      "metadata": {
        "id": "PMJwp8muhAT9",
        "colab_type": "code",
        "colab": {
          "autoexec": {
            "startup": false,
            "wait_interval": 0
          },
          "base_uri": "https://localhost:8080/",
          "height": 134
        },
        "outputId": "bd074aed-754f-446d-ea7d-96a3db3381d5",
        "executionInfo": {
          "status": "error",
          "timestamp": 1526517399654,
          "user_tz": -120,
          "elapsed": 612,
          "user": {
            "displayName": "jian zhou",
            "photoUrl": "https://lh3.googleusercontent.com/a/default-user=s128",
            "userId": "114239408718799861814"
          }
        }
      },
      "cell_type": "code",
      "source": [
        "############ HW3\n",
        "\n",
        "print(“Issuer” of a credit card are companies like Visa, Mastercard, American Express. \n",
        "      Now we know the following rules:\n",
        "\n",
        "CC number starts with: '4'\n",
        "CC len : 16\n",
        "Issuer: VISA\n",
        "\n",
        "CC number starts with: '34', '37'\n",
        "CC len : 15\n",
        "Issuer : AMEX\n",
        "\n",
        "CC number starts with: '36'\n",
        "CC len : 14\n",
        "Issuer : Diners Club\n",
        "\n",
        "Credit card number starts with\n",
        "'4026', '417500', '4405', '4508', '4844',\n",
        "'4913', '4917'\n",
        "CC len : 16\n",
        "Issuer : VISAELECTRON\n",
        "\n",
        "Now write Python scripts to identify the issuer of the following credit card numbers:\n",
        "\n",
        "'4175004175004172' \n",
        "'4917491749174917'\n",
        "'346416800707698'\n",
        "'376416800707698'\n",
        "'37641680070769832112'\n",
        "'36641680070769'\n",
        "'54545641680070769’ \n",
        ")"
      ],
      "execution_count": 50,
      "outputs": [
        {
          "output_type": "error",
          "ename": "SyntaxError",
          "evalue": "ignored",
          "traceback": [
            "\u001b[0;36m  File \u001b[0;32m\"<ipython-input-50-4d8160179cba>\"\u001b[0;36m, line \u001b[0;32m2\u001b[0m\n\u001b[0;31m    print(“Issuer” of a credit card are companies like Visa, Mastercard, American Express.\u001b[0m\n\u001b[0m          ^\u001b[0m\n\u001b[0;31mSyntaxError\u001b[0m\u001b[0;31m:\u001b[0m invalid syntax\n"
          ]
        }
      ]
    },
    {
      "metadata": {
        "id": "MVb-5q5Ihv2k",
        "colab_type": "code",
        "colab": {
          "autoexec": {
            "startup": false,
            "wait_interval": 0
          }
        }
      },
      "cell_type": "code",
      "source": [
        "# 思路 采用loop循环，避免逐个输入\n",
        "\n",
        "cc_group = [\"4175004175004172\",\n",
        "         \"4917491749174917\",\n",
        "         \"346416800707698\",\n",
        "         \"376416800707698\",\n",
        "         \"37641680070769832112\",\n",
        "         \"36641680070769\",\n",
        "         \"54545641680070769\"]"
      ],
      "execution_count": 0,
      "outputs": []
    },
    {
      "metadata": {
        "id": "6ZAgIjhxmGdH",
        "colab_type": "code",
        "colab": {
          "autoexec": {
            "startup": false,
            "wait_interval": 0
          },
          "base_uri": "https://localhost:8080/",
          "height": 136
        },
        "outputId": "d095a03b-5b8f-43b8-c789-e8e33349125c",
        "executionInfo": {
          "status": "ok",
          "timestamp": 1526520384719,
          "user_tz": -120,
          "elapsed": 549,
          "user": {
            "displayName": "jian zhou",
            "photoUrl": "https://lh3.googleusercontent.com/a/default-user=s128",
            "userId": "114239408718799861814"
          }
        }
      },
      "cell_type": "code",
      "source": [
        "# 定义函数\n",
        "def filter(cc):\n",
        "  if len(cc)==16 and cc[0]==\"4\":\n",
        "    if cc[0:4]==\"4026\" or cc[0:4]==\"4405\" or cc[0:4]==\"4508\" or cc[0:4]==\"4844\" or cc[0:4]==\"4913\" or cc[0:4]==\"4917\" or cc[0:6]==\"417500\":\n",
        "      return \"VISAELECTRON\"\n",
        "    else:\n",
        "      return \"VISA\"\n",
        "  if (cc[0:2]==\"34\" or cc[0:2]==\"37\") and len(cc)==15:\n",
        "    return \"AMEX\"\n",
        "  if cc[0:2]==\"36\" and len(cc)==14:\n",
        "    return \"Diners Club\"\n",
        "  else:\n",
        "    return \"N/A\"\n",
        "  \n",
        "for cc in cc_group:\n",
        "  print(cc+\" \"+filter(cc))"
      ],
      "execution_count": 61,
      "outputs": [
        {
          "output_type": "stream",
          "text": [
            "4175004175004172 VISAELECTRON\n",
            "4917491749174917 VISAELECTRON\n",
            "346416800707698 AMEX\n",
            "376416800707698 AMEX\n",
            "37641680070769832112 N/A\n",
            "36641680070769 Diners Club\n",
            "54545641680070769 N/A\n"
          ],
          "name": "stdout"
        }
      ]
    },
    {
      "metadata": {
        "id": "L4wsoCAlsE-e",
        "colab_type": "code",
        "colab": {
          "autoexec": {
            "startup": false,
            "wait_interval": 0
          }
        }
      },
      "cell_type": "code",
      "source": [
        "# HW4\n",
        "# Similarly to PrintDailyTimeSeries() in the sample code,  \n",
        "# write a Python function called PrintCumulativeTimeSeries(). Specifically:\n",
        "\n",
        "#The function takes three inputs:\n",
        "#experiment_id\n",
        "#country\n",
        "#vertical\n",
        "\n",
        "#The function produces two outputs:\n",
        "#A time series chart showing the cumulative uplift (hint: search for cumsum)\n",
        "#Print out the cumulative % uplift on revenue, experiment vs. control. Hint: (red - blue) / blue %\n"
      ],
      "execution_count": 0,
      "outputs": []
    },
    {
      "metadata": {
        "id": "PciGphZexpBn",
        "colab_type": "code",
        "colab": {
          "autoexec": {
            "startup": false,
            "wait_interval": 0
          },
          "base_uri": "https://localhost:8080/",
          "height": 224
        },
        "outputId": "277c2279-d94a-43ee-c35e-5ac96ac2f9f9",
        "executionInfo": {
          "status": "ok",
          "timestamp": 1526745087945,
          "user_tz": -120,
          "elapsed": 1180,
          "user": {
            "displayName": "jian zhou",
            "photoUrl": "https://lh3.googleusercontent.com/a/default-user=s128",
            "userId": "114239408718799861814"
          }
        }
      },
      "cell_type": "code",
      "source": [
        "import pandas as pd\n",
        "my_data = pd.read_csv(\"https://raw.githubusercontent.com/mingchang0804/python_notebook/master/BA501_python_data.csv\")\n",
        "\n",
        "my_data.head(5)"
      ],
      "execution_count": 87,
      "outputs": [
        {
          "output_type": "execute_result",
          "data": {
            "text/html": [
              "<div>\n",
              "<style scoped>\n",
              "    .dataframe tbody tr th:only-of-type {\n",
              "        vertical-align: middle;\n",
              "    }\n",
              "\n",
              "    .dataframe tbody tr th {\n",
              "        vertical-align: top;\n",
              "    }\n",
              "\n",
              "    .dataframe thead th {\n",
              "        text-align: right;\n",
              "    }\n",
              "</style>\n",
              "<table border=\"1\" class=\"dataframe\">\n",
              "  <thead>\n",
              "    <tr style=\"text-align: right;\">\n",
              "      <th></th>\n",
              "      <th>country</th>\n",
              "      <th>date</th>\n",
              "      <th>experiment_id</th>\n",
              "      <th>order_id</th>\n",
              "      <th>spend_usd</th>\n",
              "      <th>user_id</th>\n",
              "      <th>vertical</th>\n",
              "    </tr>\n",
              "  </thead>\n",
              "  <tbody>\n",
              "    <tr>\n",
              "      <th>0</th>\n",
              "      <td>JP</td>\n",
              "      <td>20170402</td>\n",
              "      <td>12624548</td>\n",
              "      <td>5813140433216629693</td>\n",
              "      <td>16.138855</td>\n",
              "      <td>5006730028073359543</td>\n",
              "      <td>ANDROID_APPS</td>\n",
              "    </tr>\n",
              "    <tr>\n",
              "      <th>1</th>\n",
              "      <td>US</td>\n",
              "      <td>20170403</td>\n",
              "      <td>12624549</td>\n",
              "      <td>16333056276711034931</td>\n",
              "      <td>9.990000</td>\n",
              "      <td>5938685669571545259</td>\n",
              "      <td>ANDROID_APPS</td>\n",
              "    </tr>\n",
              "    <tr>\n",
              "      <th>2</th>\n",
              "      <td>JP</td>\n",
              "      <td>20170404</td>\n",
              "      <td>12624548</td>\n",
              "      <td>11227119161741298366</td>\n",
              "      <td>19.887087</td>\n",
              "      <td>17623708458399141713</td>\n",
              "      <td>ANDROID_APPS</td>\n",
              "    </tr>\n",
              "    <tr>\n",
              "      <th>3</th>\n",
              "      <td>US</td>\n",
              "      <td>20170403</td>\n",
              "      <td>12624548</td>\n",
              "      <td>11927299833124210932</td>\n",
              "      <td>19.990000</td>\n",
              "      <td>18042812344456618148</td>\n",
              "      <td>ANDROID_APPS</td>\n",
              "    </tr>\n",
              "    <tr>\n",
              "      <th>4</th>\n",
              "      <td>JP</td>\n",
              "      <td>20170403</td>\n",
              "      <td>12624549</td>\n",
              "      <td>11644727017708872749</td>\n",
              "      <td>88.220093</td>\n",
              "      <td>4325104700699531031</td>\n",
              "      <td>ANDROID_APPS</td>\n",
              "    </tr>\n",
              "  </tbody>\n",
              "</table>\n",
              "</div>"
            ],
            "text/plain": [
              "  country      date  experiment_id              order_id  spend_usd  \\\n",
              "0      JP  20170402       12624548   5813140433216629693  16.138855   \n",
              "1      US  20170403       12624549  16333056276711034931   9.990000   \n",
              "2      JP  20170404       12624548  11227119161741298366  19.887087   \n",
              "3      US  20170403       12624548  11927299833124210932  19.990000   \n",
              "4      JP  20170403       12624549  11644727017708872749  88.220093   \n",
              "\n",
              "                user_id      vertical  \n",
              "0   5006730028073359543  ANDROID_APPS  \n",
              "1   5938685669571545259  ANDROID_APPS  \n",
              "2  17623708458399141713  ANDROID_APPS  \n",
              "3  18042812344456618148  ANDROID_APPS  \n",
              "4   4325104700699531031  ANDROID_APPS  "
            ]
          },
          "metadata": {
            "tags": []
          },
          "execution_count": 87
        }
      ]
    },
    {
      "metadata": {
        "id": "852-ZR3m23Ap",
        "colab_type": "code",
        "colab": {
          "autoexec": {
            "startup": false,
            "wait_interval": 0
          }
        }
      },
      "cell_type": "code",
      "source": [
        "# 构造一个函数\n",
        "def GetCumulativeSeries(my_data, experiment_id, country, vertical):\n",
        "    table = my_data[[\"date\", \"spend_usd\"]][(my_data.experiment_id == experiment_id) \n",
        "                                           & (my_data.country == country) & (my_data.vertical == vertical)]\n",
        "    series = table.groupby('date')['spend_usd'].sum()\n",
        "    my_data.date = pd.to_datetime(my_data.date, format=\"%Y%m%d\")   \n",
        "    my_data = my_data.sort_values(\"date\", ascending=True, inplace=False)\n",
        "    series = np.cumsum(series) # the key function is here\n",
        "    return((series))\n",
        "\n",
        "# 设置坐标系各个属性\n",
        "import matplotlib.pyplot as plt\n",
        "def PlotSeries(experiment_series, control_series):\n",
        "    fig, ax = plt.subplots()\n",
        "    ax.plot(experiment_series, color=\"red\", label=\"experiment\")\n",
        "    ax.plot(control_series, color=\"blue\", label=\"control\")\n",
        "    ax.set_title(\"Experiment vs. Control\")\n",
        "    ax.set_ylabel(\"Total spend\")\n",
        "    ax.set_ylim(0,160000)\n",
        "    ax.legend()\n",
        "    \n",
        "# 终于可以打印出来    \n",
        "def PrintCumulativeTimeSeries(my_data, experiment_id, country, vertical):\n",
        "    experiment_series = GetCumulativeSeries(my_data, experiment_id[0], country, vertical)\n",
        "    control_series = GetCumulativeSeries(my_data, experiment_id[1], country, vertical)\n",
        "    \n",
        "    print(\"Cumulative revenue impact: \" + str(experiment_series[-1]/control_series[-1]*100-100) + \"%\")\n",
        "    PlotSeries(experiment_series, control_series)"
      ],
      "execution_count": 0,
      "outputs": []
    },
    {
      "metadata": {
        "id": "8oVwJ20I6uUo",
        "colab_type": "code",
        "colab": {
          "autoexec": {
            "startup": false,
            "wait_interval": 0
          },
          "base_uri": "https://localhost:8080/",
          "height": 379
        },
        "outputId": "27a45398-1282-4973-dc67-ae382bd7fb3c",
        "executionInfo": {
          "status": "ok",
          "timestamp": 1526746234222,
          "user_tz": -120,
          "elapsed": 995,
          "user": {
            "displayName": "jian zhou",
            "photoUrl": "https://lh3.googleusercontent.com/a/default-user=s128",
            "userId": "114239408718799861814"
          }
        }
      },
      "cell_type": "code",
      "source": [
        "PrintCumulativeTimeSeries(my_data, [12624548,12624549], \"US\", \"ANDROID_APPS\")"
      ],
      "execution_count": 99,
      "outputs": [
        {
          "output_type": "stream",
          "text": [
            "Cumulative revenue impact: -4.35272685442834%\n"
          ],
          "name": "stdout"
        },
        {
          "output_type": "display_data",
          "data": {
            "image/png": "[encoded data removed]",
            "text/plain": [
              "<matplotlib.figure.Figure at 0x7f6434f31e90>"
            ]
          },
          "metadata": {
            "tags": []
          }
        }
      ]
    },
    {
      "metadata": {
        "id": "CORL_m9xHe-6",
        "colab_type": "code",
        "colab": {
          "autoexec": {
            "startup": false,
            "wait_interval": 0
          }
        }
      },
      "cell_type": "code",
      "source": [
        ""
      ],
      "execution_count": 0,
      "outputs": []
    }
  ]
}