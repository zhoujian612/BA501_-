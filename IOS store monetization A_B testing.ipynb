{
  "nbformat": 4,
  "nbformat_minor": 0,
  "metadata": {
    "colab": {
      "name": "A/B test",
      "version": "0.3.2",
      "provenance": [],
      "collapsed_sections": []
    },
    "kernelspec": {
      "name": "python3",
      "display_name": "Python 3"
    }
  },
  "cells": [
    {
      "cell_type": "code",
      "metadata": {
        "id": "EEWOomdsSPzu",
        "colab_type": "code",
        "colab": {}
      },
      "source": [
        "import numpy as np\n",
        "import pandas as pd\n",
        "import scipy  #########   scipy旗下有matplotlib等绘图软件\n",
        "import io\n",
        "import matplotlib.pyplot as plt\n",
        "import sklearn as skl #绘图常用\n",
        "import seaborn as sns #绘图常用\n",
        "import lightgbm as lgb\n",
        "import gc\n",
        "from datetime import datetime\n",
        "from sklearn.model_selection import train_test_split\n",
        "from sklearn.model_selection import KFold\n",
        "from sklearn.metrics import roc_auc_score  ########## 关键就是比较auc的面积\n",
        "from sklearn.ensemble import RandomForestClassifier\n",
        "import os\n",
        "import xgboost as xgb"
      ],
      "execution_count": 0,
      "outputs": []
    },
    {
      "cell_type": "code",
      "metadata": {
        "id": "mh4faVTWQNqs",
        "colab_type": "code",
        "colab": {}
      },
      "source": [
        "# 读取 google drive里面的csv数据\n",
        "# To read csv file which is stored in Googledrive:\n",
        "\n",
        "!pip install -U -q PyDrive\n",
        "from pydrive.auth import GoogleAuth\n",
        "from pydrive.drive import GoogleDrive\n",
        "from google.colab import auth\n",
        "from oauth2client.client import GoogleCredentials\n",
        "\n",
        "# 1. Authenticate and create the PyDrive client.\n",
        "auth.authenticate_user()\n",
        "gauth = GoogleAuth()\n",
        "gauth.credentials = GoogleCredentials.get_application_default()\n",
        "drive = GoogleDrive(gauth)\n",
        "\n",
        "#2. Get the file, by right clicking on the file and copying the shared link for the ID.\n",
        "downloaded_train = drive.CreateFile({'id':'1Yur_9PS2q1LVVuzGvXSXYsue6thlLitJ'}) # replace the id with id of file you want to access\n",
        "downloaded_train.GetContentFile('Python_project_eda.csv')\n",
        "downloaded_test = drive.CreateFile({'id':'1yXQokLhHJ3ZUfdV9Ut5lBlVkPsXoakDS'}) # replace the id with id of file you want to access\n",
        "downloaded_test.GetContentFile('Python_project_experiment.csv')\n",
        "\n",
        "#3. Read file as panda dataframe\n",
        "Python_project_eda = pd.read_csv(\"Python_project_eda.csv\")\n",
        "Python_project_experiment = pd.read_csv(\"Python_project_experiment.csv\")"
      ],
      "execution_count": 0,
      "outputs": []
    },
    {
      "cell_type": "code",
      "metadata": {
        "id": "TDO8ANHGqH2M",
        "colab_type": "code",
        "outputId": "d8b09fcc-b080-486d-82f1-5bcd2c6ff043",
        "colab": {
          "base_uri": "https://localhost:8080/",
          "height": 215
        }
      },
      "source": [
        "######################## 第一部分 做原始老数据的exploratory data analysis  ##################################\n",
        "Python_project_eda.head(5)"
      ],
      "execution_count": 0,
      "outputs": [
        {
          "output_type": "execute_result",
          "data": {
            "text/html": [
              "<div>\n",
              "<style scoped>\n",
              "    .dataframe tbody tr th:only-of-type {\n",
              "        vertical-align: middle;\n",
              "    }\n",
              "\n",
              "    .dataframe tbody tr th {\n",
              "        vertical-align: top;\n",
              "    }\n",
              "\n",
              "    .dataframe thead th {\n",
              "        text-align: right;\n",
              "    }\n",
              "</style>\n",
              "<table border=\"1\" class=\"dataframe\">\n",
              "  <thead>\n",
              "    <tr style=\"text-align: right;\">\n",
              "      <th></th>\n",
              "      <th>buyer_week_before</th>\n",
              "      <th>clicked_buy_before</th>\n",
              "      <th>country</th>\n",
              "      <th>existing_buyer</th>\n",
              "      <th>initial_fop_set</th>\n",
              "      <th>made_purchase_before</th>\n",
              "      <th>saw_cart_before</th>\n",
              "      <th>spend_usd_next_14_days</th>\n",
              "      <th>user_added_credit_card</th>\n",
              "      <th>user_added_dcb</th>\n",
              "      <th>user_added_fop</th>\n",
              "      <th>user_added_gift_card</th>\n",
              "      <th>user_added_paypal</th>\n",
              "      <th>user_id</th>\n",
              "      <th>visit_before</th>\n",
              "    </tr>\n",
              "  </thead>\n",
              "  <tbody>\n",
              "    <tr>\n",
              "      <th>0</th>\n",
              "      <td>0</td>\n",
              "      <td>0.0</td>\n",
              "      <td>IN</td>\n",
              "      <td>0</td>\n",
              "      <td>False</td>\n",
              "      <td>0.0</td>\n",
              "      <td>1.0</td>\n",
              "      <td>NaN</td>\n",
              "      <td>NaN</td>\n",
              "      <td>NaN</td>\n",
              "      <td>0</td>\n",
              "      <td>NaN</td>\n",
              "      <td>NaN</td>\n",
              "      <td>18321316048201303366</td>\n",
              "      <td>1</td>\n",
              "    </tr>\n",
              "    <tr>\n",
              "      <th>1</th>\n",
              "      <td>0</td>\n",
              "      <td>0.0</td>\n",
              "      <td>IN</td>\n",
              "      <td>0</td>\n",
              "      <td>False</td>\n",
              "      <td>0.0</td>\n",
              "      <td>1.0</td>\n",
              "      <td>NaN</td>\n",
              "      <td>NaN</td>\n",
              "      <td>NaN</td>\n",
              "      <td>0</td>\n",
              "      <td>NaN</td>\n",
              "      <td>NaN</td>\n",
              "      <td>13705367724816913241</td>\n",
              "      <td>1</td>\n",
              "    </tr>\n",
              "    <tr>\n",
              "      <th>2</th>\n",
              "      <td>0</td>\n",
              "      <td>NaN</td>\n",
              "      <td>IN</td>\n",
              "      <td>0</td>\n",
              "      <td>False</td>\n",
              "      <td>NaN</td>\n",
              "      <td>NaN</td>\n",
              "      <td>NaN</td>\n",
              "      <td>NaN</td>\n",
              "      <td>NaN</td>\n",
              "      <td>0</td>\n",
              "      <td>NaN</td>\n",
              "      <td>NaN</td>\n",
              "      <td>6605724765451655114</td>\n",
              "      <td>0</td>\n",
              "    </tr>\n",
              "    <tr>\n",
              "      <th>3</th>\n",
              "      <td>0</td>\n",
              "      <td>1.0</td>\n",
              "      <td>CA</td>\n",
              "      <td>1</td>\n",
              "      <td>True</td>\n",
              "      <td>1.0</td>\n",
              "      <td>1.0</td>\n",
              "      <td>7.398815</td>\n",
              "      <td>1.0</td>\n",
              "      <td>0.0</td>\n",
              "      <td>1</td>\n",
              "      <td>0.0</td>\n",
              "      <td>0.0</td>\n",
              "      <td>2340067911948261502</td>\n",
              "      <td>1</td>\n",
              "    </tr>\n",
              "    <tr>\n",
              "      <th>4</th>\n",
              "      <td>7</td>\n",
              "      <td>1.0</td>\n",
              "      <td>PL</td>\n",
              "      <td>1</td>\n",
              "      <td>True</td>\n",
              "      <td>1.0</td>\n",
              "      <td>1.0</td>\n",
              "      <td>NaN</td>\n",
              "      <td>0.0</td>\n",
              "      <td>1.0</td>\n",
              "      <td>1</td>\n",
              "      <td>0.0</td>\n",
              "      <td>0.0</td>\n",
              "      <td>11891045596810635427</td>\n",
              "      <td>1</td>\n",
              "    </tr>\n",
              "  </tbody>\n",
              "</table>\n",
              "</div>"
            ],
            "text/plain": [
              "   buyer_week_before  clicked_buy_before country  existing_buyer  \\\n",
              "0                  0                 0.0      IN               0   \n",
              "1                  0                 0.0      IN               0   \n",
              "2                  0                 NaN      IN               0   \n",
              "3                  0                 1.0      CA               1   \n",
              "4                  7                 1.0      PL               1   \n",
              "\n",
              "   initial_fop_set  made_purchase_before  saw_cart_before  \\\n",
              "0            False                   0.0              1.0   \n",
              "1            False                   0.0              1.0   \n",
              "2            False                   NaN              NaN   \n",
              "3             True                   1.0              1.0   \n",
              "4             True                   1.0              1.0   \n",
              "\n",
              "   spend_usd_next_14_days  user_added_credit_card  user_added_dcb  \\\n",
              "0                     NaN                     NaN             NaN   \n",
              "1                     NaN                     NaN             NaN   \n",
              "2                     NaN                     NaN             NaN   \n",
              "3                7.398815                     1.0             0.0   \n",
              "4                     NaN                     0.0             1.0   \n",
              "\n",
              "   user_added_fop  user_added_gift_card  user_added_paypal  \\\n",
              "0               0                   NaN                NaN   \n",
              "1               0                   NaN                NaN   \n",
              "2               0                   NaN                NaN   \n",
              "3               1                   0.0                0.0   \n",
              "4               1                   0.0                0.0   \n",
              "\n",
              "                user_id  visit_before  \n",
              "0  18321316048201303366             1  \n",
              "1  13705367724816913241             1  \n",
              "2   6605724765451655114             0  \n",
              "3   2340067911948261502             1  \n",
              "4  11891045596810635427             1  "
            ]
          },
          "metadata": {
            "tags": []
          },
          "execution_count": 13
        }
      ]
    },
    {
      "cell_type": "code",
      "metadata": {
        "id": "xhTGou-iOCxG",
        "colab_type": "code",
        "outputId": "b6300ca9-ea01-4395-a6ef-55a66ad35486",
        "colab": {
          "base_uri": "https://localhost:8080/",
          "height": 215
        }
      },
      "source": [
        "Python_project_eda[Python_project_eda.country==\"US\"].head(5)  #######  显示特定的行   ###########"
      ],
      "execution_count": 0,
      "outputs": [
        {
          "output_type": "execute_result",
          "data": {
            "text/html": [
              "<div>\n",
              "<style scoped>\n",
              "    .dataframe tbody tr th:only-of-type {\n",
              "        vertical-align: middle;\n",
              "    }\n",
              "\n",
              "    .dataframe tbody tr th {\n",
              "        vertical-align: top;\n",
              "    }\n",
              "\n",
              "    .dataframe thead th {\n",
              "        text-align: right;\n",
              "    }\n",
              "</style>\n",
              "<table border=\"1\" class=\"dataframe\">\n",
              "  <thead>\n",
              "    <tr style=\"text-align: right;\">\n",
              "      <th></th>\n",
              "      <th>buyer_week_before</th>\n",
              "      <th>clicked_buy_before</th>\n",
              "      <th>country</th>\n",
              "      <th>existing_buyer</th>\n",
              "      <th>initial_fop_set</th>\n",
              "      <th>made_purchase_before</th>\n",
              "      <th>saw_cart_before</th>\n",
              "      <th>spend_usd_next_14_days</th>\n",
              "      <th>user_added_credit_card</th>\n",
              "      <th>user_added_dcb</th>\n",
              "      <th>user_added_fop</th>\n",
              "      <th>user_added_gift_card</th>\n",
              "      <th>user_added_paypal</th>\n",
              "      <th>user_id</th>\n",
              "      <th>visit_before</th>\n",
              "    </tr>\n",
              "  </thead>\n",
              "  <tbody>\n",
              "    <tr>\n",
              "      <th>14</th>\n",
              "      <td>0</td>\n",
              "      <td>1.0</td>\n",
              "      <td>US</td>\n",
              "      <td>1</td>\n",
              "      <td>True</td>\n",
              "      <td>1.0</td>\n",
              "      <td>1.0</td>\n",
              "      <td>33.82</td>\n",
              "      <td>1.0</td>\n",
              "      <td>1.0</td>\n",
              "      <td>1</td>\n",
              "      <td>0.0</td>\n",
              "      <td>1.0</td>\n",
              "      <td>10301202680834406137</td>\n",
              "      <td>1</td>\n",
              "    </tr>\n",
              "    <tr>\n",
              "      <th>17</th>\n",
              "      <td>1</td>\n",
              "      <td>1.0</td>\n",
              "      <td>US</td>\n",
              "      <td>1</td>\n",
              "      <td>True</td>\n",
              "      <td>1.0</td>\n",
              "      <td>1.0</td>\n",
              "      <td>1.98</td>\n",
              "      <td>1.0</td>\n",
              "      <td>0.0</td>\n",
              "      <td>1</td>\n",
              "      <td>1.0</td>\n",
              "      <td>0.0</td>\n",
              "      <td>16569805868309262813</td>\n",
              "      <td>1</td>\n",
              "    </tr>\n",
              "    <tr>\n",
              "      <th>25</th>\n",
              "      <td>0</td>\n",
              "      <td>1.0</td>\n",
              "      <td>US</td>\n",
              "      <td>1</td>\n",
              "      <td>True</td>\n",
              "      <td>1.0</td>\n",
              "      <td>1.0</td>\n",
              "      <td>NaN</td>\n",
              "      <td>NaN</td>\n",
              "      <td>NaN</td>\n",
              "      <td>0</td>\n",
              "      <td>NaN</td>\n",
              "      <td>NaN</td>\n",
              "      <td>597021183915827167</td>\n",
              "      <td>1</td>\n",
              "    </tr>\n",
              "    <tr>\n",
              "      <th>43</th>\n",
              "      <td>0</td>\n",
              "      <td>0.0</td>\n",
              "      <td>US</td>\n",
              "      <td>1</td>\n",
              "      <td>True</td>\n",
              "      <td>0.0</td>\n",
              "      <td>1.0</td>\n",
              "      <td>NaN</td>\n",
              "      <td>0.0</td>\n",
              "      <td>1.0</td>\n",
              "      <td>1</td>\n",
              "      <td>0.0</td>\n",
              "      <td>0.0</td>\n",
              "      <td>11676406094140140796</td>\n",
              "      <td>1</td>\n",
              "    </tr>\n",
              "    <tr>\n",
              "      <th>51</th>\n",
              "      <td>8</td>\n",
              "      <td>1.0</td>\n",
              "      <td>US</td>\n",
              "      <td>1</td>\n",
              "      <td>True</td>\n",
              "      <td>1.0</td>\n",
              "      <td>1.0</td>\n",
              "      <td>71.82</td>\n",
              "      <td>1.0</td>\n",
              "      <td>0.0</td>\n",
              "      <td>1</td>\n",
              "      <td>0.0</td>\n",
              "      <td>0.0</td>\n",
              "      <td>4756932245224773331</td>\n",
              "      <td>1</td>\n",
              "    </tr>\n",
              "  </tbody>\n",
              "</table>\n",
              "</div>"
            ],
            "text/plain": [
              "    buyer_week_before  clicked_buy_before country  existing_buyer  \\\n",
              "14                  0                 1.0      US               1   \n",
              "17                  1                 1.0      US               1   \n",
              "25                  0                 1.0      US               1   \n",
              "43                  0                 0.0      US               1   \n",
              "51                  8                 1.0      US               1   \n",
              "\n",
              "    initial_fop_set  made_purchase_before  saw_cart_before  \\\n",
              "14             True                   1.0              1.0   \n",
              "17             True                   1.0              1.0   \n",
              "25             True                   1.0              1.0   \n",
              "43             True                   0.0              1.0   \n",
              "51             True                   1.0              1.0   \n",
              "\n",
              "    spend_usd_next_14_days  user_added_credit_card  user_added_dcb  \\\n",
              "14                   33.82                     1.0             1.0   \n",
              "17                    1.98                     1.0             0.0   \n",
              "25                     NaN                     NaN             NaN   \n",
              "43                     NaN                     0.0             1.0   \n",
              "51                   71.82                     1.0             0.0   \n",
              "\n",
              "    user_added_fop  user_added_gift_card  user_added_paypal  \\\n",
              "14               1                   0.0                1.0   \n",
              "17               1                   1.0                0.0   \n",
              "25               0                   NaN                NaN   \n",
              "43               1                   0.0                0.0   \n",
              "51               1                   0.0                0.0   \n",
              "\n",
              "                 user_id  visit_before  \n",
              "14  10301202680834406137             1  \n",
              "17  16569805868309262813             1  \n",
              "25    597021183915827167             1  \n",
              "43  11676406094140140796             1  \n",
              "51   4756932245224773331             1  "
            ]
          },
          "metadata": {
            "tags": []
          },
          "execution_count": 14
        }
      ]
    },
    {
      "cell_type": "code",
      "metadata": {
        "id": "220OZst6LYTE",
        "colab_type": "code",
        "outputId": "f17fc721-b9b6-45eb-d79a-e19d71d15a49",
        "colab": {
          "base_uri": "https://localhost:8080/",
          "height": 34
        }
      },
      "source": [
        "Python_project_eda.shape"
      ],
      "execution_count": 0,
      "outputs": [
        {
          "output_type": "execute_result",
          "data": {
            "text/plain": [
              "(566699, 15)"
            ]
          },
          "metadata": {
            "tags": []
          },
          "execution_count": 15
        }
      ]
    },
    {
      "cell_type": "code",
      "metadata": {
        "id": "4ARAx6A5Lc3S",
        "colab_type": "code",
        "outputId": "73eb9c7b-bfc8-4a78-c70a-55335ed109b4",
        "colab": {
          "base_uri": "https://localhost:8080/",
          "height": 34
        }
      },
      "source": [
        "Python_project_eda=Python_project_eda.drop_duplicates() ######## 去除重复的行  ###########\n",
        "Python_project_eda.shape"
      ],
      "execution_count": 0,
      "outputs": [
        {
          "output_type": "execute_result",
          "data": {
            "text/plain": [
              "(566699, 15)"
            ]
          },
          "metadata": {
            "tags": []
          },
          "execution_count": 16
        }
      ]
    },
    {
      "cell_type": "code",
      "metadata": {
        "id": "QQsAmIxMwMZk",
        "colab_type": "code",
        "colab": {}
      },
      "source": [
        "user_added_credit_card_group = Python_project_eda.groupby(\"user_added_credit_card\")[\"buyer_week_before\", \"clicked_buy_before\", \"made_purchase_before\", \"saw_cart_before\", \"spend_usd_next_14_days\", \"visit_before\"].sum()"
      ],
      "execution_count": 0,
      "outputs": []
    },
    {
      "cell_type": "code",
      "metadata": {
        "id": "4fViRPZUwieq",
        "colab_type": "code",
        "outputId": "5647fc25-fc59-47f9-d9d6-85dfc1c61f6e",
        "colab": {
          "base_uri": "https://localhost:8080/",
          "height": 136
        }
      },
      "source": [
        "user_added_credit_card_group # 看添加信用卡对销售额的影响"
      ],
      "execution_count": 0,
      "outputs": [
        {
          "output_type": "execute_result",
          "data": {
            "text/html": [
              "<div>\n",
              "<style scoped>\n",
              "    .dataframe tbody tr th:only-of-type {\n",
              "        vertical-align: middle;\n",
              "    }\n",
              "\n",
              "    .dataframe tbody tr th {\n",
              "        vertical-align: top;\n",
              "    }\n",
              "\n",
              "    .dataframe thead th {\n",
              "        text-align: right;\n",
              "    }\n",
              "</style>\n",
              "<table border=\"1\" class=\"dataframe\">\n",
              "  <thead>\n",
              "    <tr style=\"text-align: right;\">\n",
              "      <th></th>\n",
              "      <th>buyer_week_before</th>\n",
              "      <th>clicked_buy_before</th>\n",
              "      <th>made_purchase_before</th>\n",
              "      <th>saw_cart_before</th>\n",
              "      <th>spend_usd_next_14_days</th>\n",
              "      <th>visit_before</th>\n",
              "    </tr>\n",
              "    <tr>\n",
              "      <th>user_added_credit_card</th>\n",
              "      <th></th>\n",
              "      <th></th>\n",
              "      <th></th>\n",
              "      <th></th>\n",
              "      <th></th>\n",
              "      <th></th>\n",
              "    </tr>\n",
              "  </thead>\n",
              "  <tbody>\n",
              "    <tr>\n",
              "      <th>0.0</th>\n",
              "      <td>126290</td>\n",
              "      <td>53451.0</td>\n",
              "      <td>42125.0</td>\n",
              "      <td>70516.0</td>\n",
              "      <td>1.811866e+06</td>\n",
              "      <td>72406</td>\n",
              "    </tr>\n",
              "    <tr>\n",
              "      <th>1.0</th>\n",
              "      <td>225037</td>\n",
              "      <td>71447.0</td>\n",
              "      <td>61513.0</td>\n",
              "      <td>86445.0</td>\n",
              "      <td>4.155724e+06</td>\n",
              "      <td>88231</td>\n",
              "    </tr>\n",
              "  </tbody>\n",
              "</table>\n",
              "</div>"
            ],
            "text/plain": [
              "                        buyer_week_before  clicked_buy_before  \\\n",
              "user_added_credit_card                                          \n",
              "0.0                                126290             53451.0   \n",
              "1.0                                225037             71447.0   \n",
              "\n",
              "                        made_purchase_before  saw_cart_before  \\\n",
              "user_added_credit_card                                          \n",
              "0.0                                  42125.0          70516.0   \n",
              "1.0                                  61513.0          86445.0   \n",
              "\n",
              "                        spend_usd_next_14_days  visit_before  \n",
              "user_added_credit_card                                        \n",
              "0.0                               1.811866e+06         72406  \n",
              "1.0                               4.155724e+06         88231  "
            ]
          },
          "metadata": {
            "tags": []
          },
          "execution_count": 18
        }
      ]
    },
    {
      "cell_type": "code",
      "metadata": {
        "id": "nJ8uOr01zdsa",
        "colab_type": "code",
        "colab": {}
      },
      "source": [
        "user_added_dcb_group = Python_project_eda.groupby(\"user_added_dcb\")[\"buyer_week_before\", \"clicked_buy_before\", \"made_purchase_before\", \"saw_cart_before\", \"spend_usd_next_14_days\", \"visit_before\"].sum()"
      ],
      "execution_count": 0,
      "outputs": []
    },
    {
      "cell_type": "code",
      "metadata": {
        "id": "nSaZwrIEzlou",
        "colab_type": "code",
        "outputId": "a064df91-4462-4e77-8711-4880aca36eb0",
        "colab": {
          "base_uri": "https://localhost:8080/",
          "height": 156
        }
      },
      "source": [
        "user_added_dcb_group # 看添加借记卡对销售额的影响"
      ],
      "execution_count": 0,
      "outputs": [
        {
          "output_type": "execute_result",
          "data": {
            "text/html": [
              "<div>\n",
              "<style scoped>\n",
              "    .dataframe tbody tr th:only-of-type {\n",
              "        vertical-align: middle;\n",
              "    }\n",
              "\n",
              "    .dataframe tbody tr th {\n",
              "        vertical-align: top;\n",
              "    }\n",
              "\n",
              "    .dataframe thead th {\n",
              "        text-align: right;\n",
              "    }\n",
              "</style>\n",
              "<table border=\"1\" class=\"dataframe\">\n",
              "  <thead>\n",
              "    <tr style=\"text-align: right;\">\n",
              "      <th></th>\n",
              "      <th>buyer_week_before</th>\n",
              "      <th>clicked_buy_before</th>\n",
              "      <th>made_purchase_before</th>\n",
              "      <th>saw_cart_before</th>\n",
              "      <th>spend_usd_next_14_days</th>\n",
              "      <th>visit_before</th>\n",
              "    </tr>\n",
              "    <tr>\n",
              "      <th>user_added_dcb</th>\n",
              "      <th></th>\n",
              "      <th></th>\n",
              "      <th></th>\n",
              "      <th></th>\n",
              "      <th></th>\n",
              "      <th></th>\n",
              "    </tr>\n",
              "  </thead>\n",
              "  <tbody>\n",
              "    <tr>\n",
              "      <th>0.0</th>\n",
              "      <td>174711</td>\n",
              "      <td>63329.0</td>\n",
              "      <td>53512.0</td>\n",
              "      <td>80835.0</td>\n",
              "      <td>2.604951e+06</td>\n",
              "      <td>82776</td>\n",
              "    </tr>\n",
              "    <tr>\n",
              "      <th>1.0</th>\n",
              "      <td>176616</td>\n",
              "      <td>61569.0</td>\n",
              "      <td>50126.0</td>\n",
              "      <td>76126.0</td>\n",
              "      <td>3.362639e+06</td>\n",
              "      <td>77861</td>\n",
              "    </tr>\n",
              "  </tbody>\n",
              "</table>\n",
              "</div>"
            ],
            "text/plain": [
              "                buyer_week_before  clicked_buy_before  made_purchase_before  \\\n",
              "user_added_dcb                                                                \n",
              "0.0                        174711             63329.0               53512.0   \n",
              "1.0                        176616             61569.0               50126.0   \n",
              "\n",
              "                saw_cart_before  spend_usd_next_14_days  visit_before  \n",
              "user_added_dcb                                                         \n",
              "0.0                     80835.0            2.604951e+06         82776  \n",
              "1.0                     76126.0            3.362639e+06         77861  "
            ]
          },
          "metadata": {
            "tags": []
          },
          "execution_count": 85
        }
      ]
    },
    {
      "cell_type": "code",
      "metadata": {
        "id": "iM73Hc7-zy8C",
        "colab_type": "code",
        "colab": {}
      },
      "source": [
        "user_added_gift_card_group = Python_project_eda.groupby(\"user_added_gift_card\")[\"buyer_week_before\", \"clicked_buy_before\", \"made_purchase_before\", \"saw_cart_before\", \"spend_usd_next_14_days\", \"visit_before\"].sum()"
      ],
      "execution_count": 0,
      "outputs": []
    },
    {
      "cell_type": "code",
      "metadata": {
        "id": "uEh1JlPzzy0q",
        "colab_type": "code",
        "outputId": "cbf142a0-d2b7-4327-8d40-79861bec0751",
        "colab": {
          "base_uri": "https://localhost:8080/",
          "height": 156
        }
      },
      "source": [
        "user_added_gift_card_group # 看添加礼品卡对销售额的影响"
      ],
      "execution_count": 0,
      "outputs": [
        {
          "output_type": "execute_result",
          "data": {
            "text/html": [
              "<div>\n",
              "<style scoped>\n",
              "    .dataframe tbody tr th:only-of-type {\n",
              "        vertical-align: middle;\n",
              "    }\n",
              "\n",
              "    .dataframe tbody tr th {\n",
              "        vertical-align: top;\n",
              "    }\n",
              "\n",
              "    .dataframe thead th {\n",
              "        text-align: right;\n",
              "    }\n",
              "</style>\n",
              "<table border=\"1\" class=\"dataframe\">\n",
              "  <thead>\n",
              "    <tr style=\"text-align: right;\">\n",
              "      <th></th>\n",
              "      <th>buyer_week_before</th>\n",
              "      <th>clicked_buy_before</th>\n",
              "      <th>made_purchase_before</th>\n",
              "      <th>saw_cart_before</th>\n",
              "      <th>spend_usd_next_14_days</th>\n",
              "      <th>visit_before</th>\n",
              "    </tr>\n",
              "    <tr>\n",
              "      <th>user_added_gift_card</th>\n",
              "      <th></th>\n",
              "      <th></th>\n",
              "      <th></th>\n",
              "      <th></th>\n",
              "      <th></th>\n",
              "      <th></th>\n",
              "    </tr>\n",
              "  </thead>\n",
              "  <tbody>\n",
              "    <tr>\n",
              "      <th>0.0</th>\n",
              "      <td>261798</td>\n",
              "      <td>98514.0</td>\n",
              "      <td>78345.0</td>\n",
              "      <td>126674.0</td>\n",
              "      <td>3.875877e+06</td>\n",
              "      <td>130053</td>\n",
              "    </tr>\n",
              "    <tr>\n",
              "      <th>1.0</th>\n",
              "      <td>89529</td>\n",
              "      <td>26384.0</td>\n",
              "      <td>25293.0</td>\n",
              "      <td>30287.0</td>\n",
              "      <td>2.091714e+06</td>\n",
              "      <td>30584</td>\n",
              "    </tr>\n",
              "  </tbody>\n",
              "</table>\n",
              "</div>"
            ],
            "text/plain": [
              "                      buyer_week_before  clicked_buy_before  \\\n",
              "user_added_gift_card                                          \n",
              "0.0                              261798             98514.0   \n",
              "1.0                               89529             26384.0   \n",
              "\n",
              "                      made_purchase_before  saw_cart_before  \\\n",
              "user_added_gift_card                                          \n",
              "0.0                                78345.0         126674.0   \n",
              "1.0                                25293.0          30287.0   \n",
              "\n",
              "                      spend_usd_next_14_days  visit_before  \n",
              "user_added_gift_card                                        \n",
              "0.0                             3.875877e+06        130053  \n",
              "1.0                             2.091714e+06         30584  "
            ]
          },
          "metadata": {
            "tags": []
          },
          "execution_count": 83
        }
      ]
    },
    {
      "cell_type": "code",
      "metadata": {
        "id": "z053NtXU0UKE",
        "colab_type": "code",
        "colab": {}
      },
      "source": [
        "user_added_paypal_group = Python_project_eda.groupby(\"user_added_paypal\")[\"buyer_week_before\", \"clicked_buy_before\", \"made_purchase_before\", \"saw_cart_before\", \"spend_usd_next_14_days\", \"visit_before\"].sum()"
      ],
      "execution_count": 0,
      "outputs": []
    },
    {
      "cell_type": "code",
      "metadata": {
        "id": "_h1Qusc-0af8",
        "colab_type": "code",
        "outputId": "4d720af6-a9b6-453e-b08d-978d79502bf1",
        "colab": {
          "base_uri": "https://localhost:8080/",
          "height": 156
        }
      },
      "source": [
        "user_added_paypal_group # 看添加paypal对销售额的影响"
      ],
      "execution_count": 0,
      "outputs": [
        {
          "output_type": "execute_result",
          "data": {
            "text/html": [
              "<div>\n",
              "<style scoped>\n",
              "    .dataframe tbody tr th:only-of-type {\n",
              "        vertical-align: middle;\n",
              "    }\n",
              "\n",
              "    .dataframe tbody tr th {\n",
              "        vertical-align: top;\n",
              "    }\n",
              "\n",
              "    .dataframe thead th {\n",
              "        text-align: right;\n",
              "    }\n",
              "</style>\n",
              "<table border=\"1\" class=\"dataframe\">\n",
              "  <thead>\n",
              "    <tr style=\"text-align: right;\">\n",
              "      <th></th>\n",
              "      <th>buyer_week_before</th>\n",
              "      <th>clicked_buy_before</th>\n",
              "      <th>made_purchase_before</th>\n",
              "      <th>saw_cart_before</th>\n",
              "      <th>spend_usd_next_14_days</th>\n",
              "      <th>visit_before</th>\n",
              "    </tr>\n",
              "    <tr>\n",
              "      <th>user_added_paypal</th>\n",
              "      <th></th>\n",
              "      <th></th>\n",
              "      <th></th>\n",
              "      <th></th>\n",
              "      <th></th>\n",
              "      <th></th>\n",
              "    </tr>\n",
              "  </thead>\n",
              "  <tbody>\n",
              "    <tr>\n",
              "      <th>0.0</th>\n",
              "      <td>306639</td>\n",
              "      <td>111528.0</td>\n",
              "      <td>91878.0</td>\n",
              "      <td>141310.0</td>\n",
              "      <td>5.284654e+06</td>\n",
              "      <td>144684</td>\n",
              "    </tr>\n",
              "    <tr>\n",
              "      <th>1.0</th>\n",
              "      <td>44688</td>\n",
              "      <td>13370.0</td>\n",
              "      <td>11760.0</td>\n",
              "      <td>15651.0</td>\n",
              "      <td>6.829366e+05</td>\n",
              "      <td>15953</td>\n",
              "    </tr>\n",
              "  </tbody>\n",
              "</table>\n",
              "</div>"
            ],
            "text/plain": [
              "                   buyer_week_before  clicked_buy_before  \\\n",
              "user_added_paypal                                          \n",
              "0.0                           306639            111528.0   \n",
              "1.0                            44688             13370.0   \n",
              "\n",
              "                   made_purchase_before  saw_cart_before  \\\n",
              "user_added_paypal                                          \n",
              "0.0                             91878.0         141310.0   \n",
              "1.0                             11760.0          15651.0   \n",
              "\n",
              "                   spend_usd_next_14_days  visit_before  \n",
              "user_added_paypal                                        \n",
              "0.0                          5.284654e+06        144684  \n",
              "1.0                          6.829366e+05         15953  "
            ]
          },
          "metadata": {
            "tags": []
          },
          "execution_count": 87
        }
      ]
    },
    {
      "cell_type": "code",
      "metadata": {
        "id": "Rs57v_BgkDP-",
        "colab_type": "code",
        "outputId": "8e9ed509-86e1-430b-ad48-1d0e570d2d1b",
        "colab": {
          "base_uri": "https://localhost:8080/",
          "height": 34
        }
      },
      "source": [
        "######################## 第二部分 做新老数据的A/B test  ##################################\n",
        "\n",
        "Python_project_experiment.shape"
      ],
      "execution_count": 0,
      "outputs": [
        {
          "output_type": "execute_result",
          "data": {
            "text/plain": [
              "(49166, 8)"
            ]
          },
          "metadata": {
            "tags": []
          },
          "execution_count": 44
        }
      ]
    },
    {
      "cell_type": "code",
      "metadata": {
        "id": "-nP0XKWDjP_H",
        "colab_type": "code",
        "colab": {}
      },
      "source": [
        "Python_project_experiment=Python_project_experiment.dropna(subset=['country', 'date'])"
      ],
      "execution_count": 0,
      "outputs": []
    },
    {
      "cell_type": "code",
      "metadata": {
        "id": "eZJR5HQYlB5j",
        "colab_type": "code",
        "outputId": "777107dc-47dc-4e05-9b19-567b90d35b67",
        "colab": {
          "base_uri": "https://localhost:8080/",
          "height": 34
        }
      },
      "source": [
        "Python_project_experiment.shape"
      ],
      "execution_count": 0,
      "outputs": [
        {
          "output_type": "execute_result",
          "data": {
            "text/plain": [
              "(12339, 8)"
            ]
          },
          "metadata": {
            "tags": []
          },
          "execution_count": 46
        }
      ]
    },
    {
      "cell_type": "code",
      "metadata": {
        "id": "T9A6ISwTVjAa",
        "colab_type": "code",
        "outputId": "136c0aac-9705-46a3-e96d-d18dc9d78fa9",
        "colab": {
          "base_uri": "https://localhost:8080/",
          "height": 195
        }
      },
      "source": [
        "experiment_data = Python_project_experiment.sort_values(['country','date'],ascending=[True, True]).reset_index()  #######  按国家和日期梳理排序  #####\n",
        "experiment_data.head(5)"
      ],
      "execution_count": 0,
      "outputs": [
        {
          "output_type": "execute_result",
          "data": {
            "text/html": [
              "<div>\n",
              "<style scoped>\n",
              "    .dataframe tbody tr th:only-of-type {\n",
              "        vertical-align: middle;\n",
              "    }\n",
              "\n",
              "    .dataframe tbody tr th {\n",
              "        vertical-align: top;\n",
              "    }\n",
              "\n",
              "    .dataframe thead th {\n",
              "        text-align: right;\n",
              "    }\n",
              "</style>\n",
              "<table border=\"1\" class=\"dataframe\">\n",
              "  <thead>\n",
              "    <tr style=\"text-align: right;\">\n",
              "      <th></th>\n",
              "      <th>index</th>\n",
              "      <th>country</th>\n",
              "      <th>date</th>\n",
              "      <th>experiment_id</th>\n",
              "      <th>order_id</th>\n",
              "      <th>spend_usd</th>\n",
              "      <th>user_bucket</th>\n",
              "      <th>user_id</th>\n",
              "      <th>vertical</th>\n",
              "    </tr>\n",
              "  </thead>\n",
              "  <tbody>\n",
              "    <tr>\n",
              "      <th>0</th>\n",
              "      <td>44272</td>\n",
              "      <td>AE</td>\n",
              "      <td>2017-04-03</td>\n",
              "      <td>12624548</td>\n",
              "      <td>8078410735682954089</td>\n",
              "      <td>1.984784</td>\n",
              "      <td>5</td>\n",
              "      <td>15342218896746506117</td>\n",
              "      <td>GAMES</td>\n",
              "    </tr>\n",
              "    <tr>\n",
              "      <th>1</th>\n",
              "      <td>28416</td>\n",
              "      <td>AE</td>\n",
              "      <td>2017-04-05</td>\n",
              "      <td>12624548</td>\n",
              "      <td>18081415353723908788</td>\n",
              "      <td>0.952926</td>\n",
              "      <td>6</td>\n",
              "      <td>921275339006250633</td>\n",
              "      <td>GAMES</td>\n",
              "    </tr>\n",
              "    <tr>\n",
              "      <th>2</th>\n",
              "      <td>165</td>\n",
              "      <td>AT</td>\n",
              "      <td>2017-04-01</td>\n",
              "      <td>12624549</td>\n",
              "      <td>13815999582826879773</td>\n",
              "      <td>10.661877</td>\n",
              "      <td>1</td>\n",
              "      <td>10712080054886617313</td>\n",
              "      <td>GAMES</td>\n",
              "    </tr>\n",
              "    <tr>\n",
              "      <th>3</th>\n",
              "      <td>327</td>\n",
              "      <td>AT</td>\n",
              "      <td>2017-04-01</td>\n",
              "      <td>12624549</td>\n",
              "      <td>6849040377355354671</td>\n",
              "      <td>9.594622</td>\n",
              "      <td>9</td>\n",
              "      <td>14625640117659796845</td>\n",
              "      <td>GAMES</td>\n",
              "    </tr>\n",
              "    <tr>\n",
              "      <th>4</th>\n",
              "      <td>328</td>\n",
              "      <td>AT</td>\n",
              "      <td>2017-04-01</td>\n",
              "      <td>12624549</td>\n",
              "      <td>7427092356856955286</td>\n",
              "      <td>9.594622</td>\n",
              "      <td>9</td>\n",
              "      <td>14625640117659796845</td>\n",
              "      <td>GAMES</td>\n",
              "    </tr>\n",
              "  </tbody>\n",
              "</table>\n",
              "</div>"
            ],
            "text/plain": [
              "   index country        date  experiment_id              order_id  spend_usd  \\\n",
              "0  44272      AE  2017-04-03       12624548   8078410735682954089   1.984784   \n",
              "1  28416      AE  2017-04-05       12624548  18081415353723908788   0.952926   \n",
              "2    165      AT  2017-04-01       12624549  13815999582826879773  10.661877   \n",
              "3    327      AT  2017-04-01       12624549   6849040377355354671   9.594622   \n",
              "4    328      AT  2017-04-01       12624549   7427092356856955286   9.594622   \n",
              "\n",
              "   user_bucket               user_id vertical  \n",
              "0            5  15342218896746506117    GAMES  \n",
              "1            6    921275339006250633    GAMES  \n",
              "2            1  10712080054886617313    GAMES  \n",
              "3            9  14625640117659796845    GAMES  \n",
              "4            9  14625640117659796845    GAMES  "
            ]
          },
          "metadata": {
            "tags": []
          },
          "execution_count": 47
        }
      ]
    },
    {
      "cell_type": "code",
      "metadata": {
        "id": "jmMifgD9aluH",
        "colab_type": "code",
        "colab": {}
      },
      "source": [
        "#goal:compare revernue performance between red(id为12624548) and blue(id为12624549)， 红色数据是实验组， 蓝色数据是对照组\n",
        "ids = np.unique(Python_project_experiment[\"experiment_id\"])\n",
        "red_button = ids[0]\n",
        "blue_button = ids[1]"
      ],
      "execution_count": 0,
      "outputs": []
    },
    {
      "cell_type": "code",
      "metadata": {
        "id": "wFFgLq8ucgQc",
        "colab_type": "code",
        "outputId": "853a86f9-0040-47d7-9052-ed5807dcad84",
        "colab": {
          "base_uri": "https://localhost:8080/",
          "height": 34
        }
      },
      "source": [
        "red_button, blue_button # 定义实验组和对照组id"
      ],
      "execution_count": 0,
      "outputs": [
        {
          "output_type": "execute_result",
          "data": {
            "text/plain": [
              "(12624548, 12624549)"
            ]
          },
          "metadata": {
            "tags": []
          },
          "execution_count": 49
        }
      ]
    },
    {
      "cell_type": "code",
      "metadata": {
        "id": "JQYEePlGcy3J",
        "colab_type": "code",
        "colab": {}
      },
      "source": [
        "# 拆分原数据集为实验组数据集和对照组数据集\n",
        "red_button_data = Python_project_experiment[[\"date\", \"spend_usd\"]][Python_project_experiment.experiment_id==red_button]\n",
        "blue_button_data = Python_project_experiment[['date','spend_usd']][Python_project_experiment.experiment_id == blue_button]"
      ],
      "execution_count": 0,
      "outputs": []
    },
    {
      "cell_type": "code",
      "metadata": {
        "id": "9VIaxuCsn_wV",
        "colab_type": "code",
        "outputId": "ddfa7ce4-c3c8-4b08-c86a-5860d5106712",
        "colab": {
          "base_uri": "https://localhost:8080/",
          "height": 34
        }
      },
      "source": [
        "red_button_data.shape"
      ],
      "execution_count": 0,
      "outputs": [
        {
          "output_type": "execute_result",
          "data": {
            "text/plain": [
              "(6386, 2)"
            ]
          },
          "metadata": {
            "tags": []
          },
          "execution_count": 51
        }
      ]
    },
    {
      "cell_type": "code",
      "metadata": {
        "id": "YbM4vshioEjI",
        "colab_type": "code",
        "outputId": "3d862b7c-8e7a-413f-b02f-7eee9e776e30",
        "colab": {
          "base_uri": "https://localhost:8080/",
          "height": 34
        }
      },
      "source": [
        "blue_button_data.shape"
      ],
      "execution_count": 0,
      "outputs": [
        {
          "output_type": "execute_result",
          "data": {
            "text/plain": [
              "(5953, 2)"
            ]
          },
          "metadata": {
            "tags": []
          },
          "execution_count": 52
        }
      ]
    },
    {
      "cell_type": "code",
      "metadata": {
        "id": "bjDkg2C-dyt4",
        "colab_type": "code",
        "colab": {}
      },
      "source": [
        "# 红色数据是实验组， 蓝色数据是对照组\n",
        "experimentgroup=red_button_data.groupby(\"date\")[\"spend_usd\"].sum()\n",
        "controlgroup = blue_button_data.groupby('date')['spend_usd'].sum()"
      ],
      "execution_count": 0,
      "outputs": []
    },
    {
      "cell_type": "code",
      "metadata": {
        "id": "41vPEPacd05Q",
        "colab_type": "code",
        "outputId": "6f58f41e-2477-4adb-a6fe-41382f2a4882",
        "colab": {
          "base_uri": "https://localhost:8080/",
          "height": 168
        }
      },
      "source": [
        "experimentgroup # 实验组在7天内消费的结果"
      ],
      "execution_count": 0,
      "outputs": [
        {
          "output_type": "execute_result",
          "data": {
            "text/plain": [
              "date\n",
              "2017-04-01    17963.103570\n",
              "2017-04-02     8893.580387\n",
              "2017-04-03    12106.731493\n",
              "2017-04-04     8891.168345\n",
              "2017-04-05     9677.074447\n",
              "2017-04-06     8218.982812\n",
              "2017-04-07    10732.362252\n",
              "Name: spend_usd, dtype: float64"
            ]
          },
          "metadata": {
            "tags": []
          },
          "execution_count": 54
        }
      ]
    },
    {
      "cell_type": "code",
      "metadata": {
        "id": "nn7J5eTafnau",
        "colab_type": "code",
        "outputId": "fe812237-3c06-493e-abbc-69a58e7ab1a0",
        "colab": {
          "base_uri": "https://localhost:8080/",
          "height": 34
        }
      },
      "source": [
        "experimentgroup.sum() # 实验组在7天内消费的结果"
      ],
      "execution_count": 0,
      "outputs": [
        {
          "output_type": "execute_result",
          "data": {
            "text/plain": [
              "76483.00330599972"
            ]
          },
          "metadata": {
            "tags": []
          },
          "execution_count": 61
        }
      ]
    },
    {
      "cell_type": "code",
      "metadata": {
        "id": "mDq_Q6nCferO",
        "colab_type": "code",
        "outputId": "efec23b5-6d23-487f-81f4-80cdd9258dfa",
        "colab": {
          "base_uri": "https://localhost:8080/",
          "height": 168
        }
      },
      "source": [
        "controlgroup # 对照组在7天内消费的结果"
      ],
      "execution_count": 0,
      "outputs": [
        {
          "output_type": "execute_result",
          "data": {
            "text/plain": [
              "date\n",
              "2017-04-01    15083.331851\n",
              "2017-04-02     9767.245650\n",
              "2017-04-03     8678.279044\n",
              "2017-04-04     7460.887996\n",
              "2017-04-05     8103.942467\n",
              "2017-04-06     9589.755734\n",
              "2017-04-07    10012.156748\n",
              "Name: spend_usd, dtype: float64"
            ]
          },
          "metadata": {
            "tags": []
          },
          "execution_count": 58
        }
      ]
    },
    {
      "cell_type": "code",
      "metadata": {
        "id": "wHiscJcaf4GY",
        "colab_type": "code",
        "outputId": "697e5568-4a1a-406a-8d7f-9d46f96750e7",
        "colab": {
          "base_uri": "https://localhost:8080/",
          "height": 34
        }
      },
      "source": [
        "controlgroup.sum() # 对照组在7天内消费的结果"
      ],
      "execution_count": 0,
      "outputs": [
        {
          "output_type": "execute_result",
          "data": {
            "text/plain": [
              "68695.59948999969"
            ]
          },
          "metadata": {
            "tags": []
          },
          "execution_count": 62
        }
      ]
    },
    {
      "cell_type": "code",
      "metadata": {
        "id": "nRUNcqYHgAYB",
        "colab_type": "code",
        "outputId": "00746a60-63b0-4586-f0c7-be4babda4916",
        "colab": {
          "base_uri": "https://localhost:8080/",
          "height": 34
        }
      },
      "source": [
        "(76483.00330599972-68695.59948999969)/68695.59948999969"
      ],
      "execution_count": 0,
      "outputs": [
        {
          "output_type": "execute_result",
          "data": {
            "text/plain": [
              "0.11336102856389921"
            ]
          },
          "metadata": {
            "tags": []
          },
          "execution_count": 63
        }
      ]
    },
    {
      "cell_type": "code",
      "metadata": {
        "id": "gPHYT8BhgMLN",
        "colab_type": "code",
        "colab": {}
      },
      "source": [
        "########## 结论    the test version help increase CTR and total revenue with 11.3% revenue uplift. We can now help the team make the right decisions.  ################\n",
        "# 实验表明实验组在7天内消费总额多于对照组11%，是明显有促销作用的。"
      ],
      "execution_count": 0,
      "outputs": []
    },
    {
      "cell_type": "code",
      "metadata": {
        "id": "jmQvDh1DeQ_C",
        "colab_type": "code",
        "outputId": "72da07bd-6eb8-41a7-e505-c7e8aecd6cd8",
        "colab": {
          "base_uri": "https://localhost:8080/",
          "height": 357
        }
      },
      "source": [
        "########  Plot 表示描线图，  hist表示直方图   ############\n",
        "\n",
        "fig, ax = plt.subplots()\n",
        "ax.plot(experimentgroup, color=\"red\", label=\"Experiment\")\n",
        "ax.plot(controlgroup, color=\"blue\", label = \"Control\")\n",
        "\n",
        "\n",
        "ax.set_ylim(0,20000)\n",
        "ax.set_title(\"Experiment vs. Control\")\n",
        "ax.set_ylabel(\"Total spend\")\n",
        "\n",
        "#make legend\n",
        "ax.legend()\n",
        "\n",
        "#format date\n",
        "plt.gcf().autofmt_xdate()"
      ],
      "execution_count": 0,
      "outputs": [
        {
          "output_type": "display_data",
          "data": {
            "image/png": "[encoded data removed]",
            "text/plain": [
              "<Figure size 576x396 with 1 Axes>"
            ]
          },
          "metadata": {
            "tags": []
          }
        }
      ]
    },
    {
      "cell_type": "code",
      "metadata": {
        "id": "xUYt9HIVgvgD",
        "colab_type": "code",
        "colab": {}
      },
      "source": [
        "###### There might be learning effect for users to get used to the change. Help the team understand this. ############\n",
        "# 注意到日期02到03，红色实验组数据相比于蓝色组有明显上提但也具有延迟性，说明新的消费者对于促销手段具有学习适应期，适应期过后消费大增。"
      ],
      "execution_count": 0,
      "outputs": []
    },
    {
      "cell_type": "code",
      "metadata": {
        "id": "5SRWdEO8m3ea",
        "colab_type": "code",
        "colab": {}
      },
      "source": [
        "red_mean = red_button_data[\"spend_usd\"].mean()\n",
        "red_sd = red_button_data[\"spend_usd\"].std()\n",
        "blue_mean = blue_button_data[\"spend_usd\"].mean()\n",
        "blue_sd = blue_button_data[\"spend_usd\"].std()"
      ],
      "execution_count": 0,
      "outputs": []
    },
    {
      "cell_type": "code",
      "metadata": {
        "id": "3iO22vy4nm-7",
        "colab_type": "code",
        "outputId": "5f4f614f-0ee7-492e-d48b-4c8bb9af26c8",
        "colab": {
          "base_uri": "https://localhost:8080/",
          "height": 34
        }
      },
      "source": [
        "red_mean, red_sd, blue_mean, blue_sd"
      ],
      "execution_count": 0,
      "outputs": [
        {
          "output_type": "execute_result",
          "data": {
            "text/plain": [
              "(11.97666822831199, 20.450579675089507, 11.539660589618586, 19.858210078491297)"
            ]
          },
          "metadata": {
            "tags": []
          },
          "execution_count": 57
        }
      ]
    }
  ]
}